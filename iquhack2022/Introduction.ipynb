{
 "cells": [
  {
   "cell_type": "code",
   "execution_count": 1,
   "metadata": {},
   "outputs": [
    {
     "ename": "ModuleNotFoundError",
     "evalue": "No module named 'qiskit'",
     "output_type": "error",
     "traceback": [
      "\u001b[1;31m---------------------------------------------------------------------------\u001b[0m",
      "\u001b[1;31mModuleNotFoundError\u001b[0m                       Traceback (most recent call last)",
      "Input \u001b[1;32mIn [1]\u001b[0m, in \u001b[0;36m<module>\u001b[1;34m\u001b[0m\n\u001b[0;32m      1\u001b[0m \u001b[38;5;28;01mimport\u001b[39;00m \u001b[38;5;21;01mos\u001b[39;00m\n\u001b[1;32m----> 3\u001b[0m \u001b[38;5;28;01mfrom\u001b[39;00m \u001b[38;5;21;01mqiskit\u001b[39;00m \u001b[38;5;28;01mimport\u001b[39;00m BasicAer, execute\n\u001b[0;32m      4\u001b[0m \u001b[38;5;28;01mfrom\u001b[39;00m \u001b[38;5;21;01mqiskit\u001b[39;00m\u001b[38;5;21;01m.\u001b[39;00m\u001b[38;5;21;01mcircuit\u001b[39;00m \u001b[38;5;28;01mimport\u001b[39;00m QuantumRegister, ClassicalRegister, QuantumCircuit\n\u001b[0;32m      6\u001b[0m \u001b[38;5;28;01mfrom\u001b[39;00m \u001b[38;5;21;01mquantuminspire\u001b[39;00m\u001b[38;5;21;01m.\u001b[39;00m\u001b[38;5;21;01mcredentials\u001b[39;00m \u001b[38;5;28;01mimport\u001b[39;00m get_authentication\n",
      "\u001b[1;31mModuleNotFoundError\u001b[0m: No module named 'qiskit'"
     ]
    }
   ],
   "source": [
    "import os\n",
    "\n",
    "from qiskit import BasicAer, execute\n",
    "from qiskit.circuit import QuantumRegister, ClassicalRegister, QuantumCircuit\n",
    "\n",
    "from quantuminspire.credentials import get_authentication\n",
    "from coreapi.auth import BasicAuthentication\n",
    "from quantuminspire.qiskit import QI"
   ]
  },
  {
   "cell_type": "code",
   "execution_count": null,
   "metadata": {},
   "outputs": [],
   "source": [
    "import numpy as np\n",
    "# Importing standard Qiskit libraries\n",
    "from qiskit import QuantumCircuit, transpile, Aer, IBMQ\n",
    "from qiskit import *\n",
    "from qiskit.tools.jupyter import *\n",
    "from qiskit.visualization import *\n",
    "#IBMQ.save_account('MY_TOKEN_NUMBER',overwrite=True)  #save your creds\n",
    "#provider = IBMQ.load_account()\n",
    "from quantuminspire.credentials import enable_account\n",
    "from random import getrandbits\n",
    "import qiskit as q"
   ]
  },
  {
   "cell_type": "code",
   "execution_count": null,
   "metadata": {},
   "outputs": [],
   "source": [
    "QUANTUM_CHANNEL = []\n",
    "CLASSICAL_CHANNEL = []"
   ]
  },
  {
   "cell_type": "code",
   "execution_count": null,
   "metadata": {},
   "outputs": [],
   "source": [
    "def select_encoding(length):\n",
    "    \n",
    "    #This stores the states Alice will encode\n",
    "    alice_bitstring = \"\"\n",
    "    # This stores the bases that Alice will prepare the states in\n",
    "    alice_bases = \"\"\n",
    "    \n",
    "    # For the length \n",
    "    for i in range(length):\n",
    "        # We use the function getrandbits to get either a 0 or 1 randomly,\n",
    "        # The \"1\" in the function argument is the number of bits to be generated\n",
    "        alice_bitstring += (str(getrandbits(1)))\n",
    "        # 0 means encode in the (0,1) basis and 1 means encode in the (+,-) basis\n",
    "        alice_bases += (str(getrandbits(1)))\n",
    "    \n",
    "    # return the string of bits and the list of bases they should be encoded in\n",
    "    return alice_bitstring, alice_bases"
   ]
  },
  {
   "cell_type": "code",
   "execution_count": null,
   "metadata": {},
   "outputs": [],
   "source": [
    "def encode(alice_bitstring, alice_bases):\n",
    "    encoded_qubits = []\n",
    "    for i in range(len(alice_bitstring)):\n",
    "        # create a brand new quantum circuit called qc. Remember that the qubit will be in state |0> by default\n",
    "        qc = q.QuantumCircuit(1,1)\n",
    "\n",
    "        if alice_bases[i] == \"0\":\n",
    "            # 0 Means we are encoding in the z basis\n",
    "            if alice_bitstring[i] == \"0\":\n",
    "                # We want to encode a |0> state, as states are intialized\n",
    "                # in |0> by default we don't need to add anything here\n",
    "                pass\n",
    "            \n",
    "            elif alice_bitstring[i] == \"1\":\n",
    "                # We want to encode a |1> state\n",
    "                # We apply an X gate to generate |1>\n",
    "                qc.x(0)\n",
    "                \n",
    "        elif alice_bases[i] == \"1\":\n",
    "            # 1 Means we are encoding in the x basis\n",
    "            if alice_bitstring[i] == \"0\":\n",
    "                # We apply an H gate to generate |+>\n",
    "                qc.h(0)\n",
    "            elif alice_bitstring[i] == \"1\":\n",
    "                # We apply an X and an H gate to generate |->\n",
    "                qc.x(0)\n",
    "                qc.h(0)\n",
    "            \n",
    "        # add this quantum circuit to the list of encoded_qubits\n",
    "        encoded_qubits.append(qc)\n",
    "        \n",
    "    return encoded_qubits"
   ]
  },
  {
   "cell_type": "code",
   "execution_count": null,
   "metadata": {},
   "outputs": [],
   "source": [
    "def select_measurement(length):\n",
    "    # Similar to before we store the bases that Bob will measure in a list\n",
    "    bob_bases = \"\"\n",
    "    \n",
    "    for i in range(length):\n",
    "        # Again we use getrandbits to generate a 0 or 1 randomly\n",
    "        bob_bases += (str(getrandbits(1)))\n",
    "        \n",
    "    # return the list of random bases to measure in\n",
    "    return bob_bases"
   ]
  },
  {
   "cell_type": "code",
   "execution_count": null,
   "metadata": {},
   "outputs": [],
   "source": [
    "def measure(bob_bases, encoded_qubits, backend):\n",
    "    # Perform measurement on the qubits send by Alice\n",
    "    # selected_measurements: \n",
    "    # encoded_qubits: list of QuantumCircuits received from Alice\n",
    "    # backend: IBMQ backend, either simulation or hardware\n",
    "    \n",
    "    # Stores the results of Bob's measurements\n",
    "    bob_bitstring = ''\n",
    "    \n",
    "    for i in range(len(encoded_qubits)):\n",
    "        qc = encoded_qubits[i]\n",
    "        \n",
    "        if bob_bases[i] == \"0\":\n",
    "            # 0 means we want to measure in Z basis\n",
    "            qc.measure(0,0)\n",
    "\n",
    "        elif bob_bases[i] == \"1\":\n",
    "            # 1 means we want to measure in X basis\n",
    "            qc.h(0)\n",
    "            qc.measure(0,0)\n",
    "        \n",
    "        # Now that the measurements have been added to the circuit, let's run them.\n",
    "        job = q.execute(qc, backend=backend, shots = 1) # increase shots if running on hardware\n",
    "        results = job.result()\n",
    "        counts = results.get_counts()\n",
    "        measured_bit = max(counts, key=counts.get)\n",
    "\n",
    "        # Append measured bit to Bob's measured bitstring\n",
    "        bob_bitstring += measured_bit \n",
    "        \n",
    "    return bob_bitstring"
   ]
  },
  {
   "cell_type": "code",
   "execution_count": null,
   "metadata": {},
   "outputs": [],
   "source": [
    "def bob_compare_bases(alices_bases, bobs_bases):\n",
    "    indices = []\n",
    "    \n",
    "    for i in range(len(alices_bases)):\n",
    "        if alices_bases[i] == bobs_bases[i]:\n",
    "            indices.append(i)\n",
    "    return indices"
   ]
  },
  {
   "cell_type": "code",
   "execution_count": null,
   "metadata": {},
   "outputs": [],
   "source": [
    "def construct_key_from_indices(bitstring, indices):\n",
    "    key = ''\n",
    "    for idx in indices:\n",
    "        # For the indices where bases match, the bitstring bit is added to the key\n",
    "        key = key + bitstring[idx] \n",
    "    return key"
   ]
  },
  {
   "cell_type": "code",
   "execution_count": null,
   "metadata": {},
   "outputs": [],
   "source": [
    "QI_URL = os.getenv('QI_URL', 'https://api.quantum-inspire.com/')\n",
    "authentication = get_authentication()\n",
    "QI.set_authentication(authentication, QI_URL)\n",
    "print(QI.backends())\n",
    "backend = QI.get_backend('Spin-2')"
   ]
  },
  {
   "cell_type": "code",
   "execution_count": null,
   "metadata": {},
   "outputs": [],
   "source": [
    "# Step 1: Alice's Prepares encoding basis and choose a random btistring\n",
    "KEY_LENGTH=260\n",
    "limit=4\n",
    "while limit > 0:\n",
    "    limit-=1\n",
    "    print('check', limit)\n",
    "    SECURE_LENGTH = 30\n",
    "    Alice_bitstring, Alice_bases = select_encoding(KEY_LENGTH+SECURE_LENGTH)\n",
    "    # Step 2\n",
    "    Bob_bases = select_measurement(KEY_LENGTH + SECURE_LENGTH)\n",
    "\n",
    "    # Step 3\n",
    "    encoded_qubits = encode(Alice_bitstring, Alice_bases)\n",
    "    # Step 4\n",
    "    QUANTUM_CHANNEL = encoded_qubits\n",
    "\n",
    "    # Step 5\n",
    "    Bob_bitstring = measure(Bob_bases, QUANTUM_CHANNEL, backend)\n",
    "\n",
    "    # Step 6: Bob uses Alice's announced bases to see where they agreed with his decoding bases\n",
    "    CLASSICAL_CHANNEL = Alice_bases\n",
    "    agreeing_bases = bob_compare_bases(CLASSICAL_CHANNEL[:SECURE_LENGTH], Bob_bases[:SECURE_LENGTH])\n",
    "    Alice_secure_check =  construct_key_from_indices(Alice_bitstring[:SECURE_LENGTH], agreeing_bases)\n",
    "    Bob_secure_check = construct_key_from_indices(Bob_bitstring[:SECURE_LENGTH], agreeing_bases)\n",
    "    if Alice_secure_check==Bob_secure_check:\n",
    "        agreeing_bases = bob_compare_bases(CLASSICAL_CHANNEL, Bob_bases)\n",
    "        break\n",
    "\n",
    "# Bob announces where they agreed on encoding and decoding bases.\n",
    "Bob_key = construct_key_from_indices(Bob_bitstring, agreeing_bases)[SECURE_LENGTH:]\n",
    "print(\"Bob's key:\", Bob_key)\n",
    "\n",
    "# Step 7: Alice and Bob construct their keys from \n",
    "CLASSICAL_CHANNEL = agreeing_bases\n",
    "Alice_key = construct_key_from_indices(Alice_bitstring, CLASSICAL_CHANNEL)[SECURE_LENGTH:]\n",
    "print(\"Alice's key:\", Alice_key)"
   ]
  },
  {
   "cell_type": "code",
   "execution_count": null,
   "metadata": {},
   "outputs": [],
   "source": [
    "import binascii\n",
    "\n",
    "def encrypt_message(unencrypted_string, key):\n",
    "    # Convert ascii string to binary string\n",
    "    bits = bin(int(binascii.hexlify(unencrypted_string.encode('utf-8', 'surrogatepass')), 16))[2:]\n",
    "    bitstring = bits.zfill(8 * ((len(bits) + 7) // 8))\n",
    "    # created the encrypted string using the key\n",
    "    encrypted_string = \"\"\n",
    "    for i in range(len(bitstring)):\n",
    "        encrypted_string += str( (int(bitstring[i])^ int(key[i])) )\n",
    "    return encrypted_string\n",
    "    \n",
    "def decrypt_message(encrypted_bits, key):\n",
    "    # created the unencrypted string using the key\n",
    "    unencrypted_bits = \"\"\n",
    "    for i in range(len(encrypted_bits)):\n",
    "        unencrypted_bits += str( (int(encrypted_bits[i])^ int(key[i])) )\n",
    "    # Convert bitstring into\n",
    "    i = int(unencrypted_bits, 2)\n",
    "    hex_string = '%x' % i\n",
    "    n = len(hex_string)\n",
    "    bits = binascii.unhexlify(hex_string.zfill(n + (n & 1)))\n",
    "    unencrypted_string = bits.decode('utf-8', 'surrogatepass')\n",
    "    return unencrypted_string"
   ]
  },
  {
   "cell_type": "code",
   "execution_count": null,
   "metadata": {},
   "outputs": [],
   "source": [
    "OriginString=\"Hey iquHack is fun right?\"\n",
    "encrypted_message = encrypt_message(OriginString, Alice_key)\n",
    "decrypt=_message = decrypt_message(encrypted_message, Bob_key)\n",
    "print(decrypt_message)"
   ]
  }
 ],
 "metadata": {
  "interpreter": {
   "hash": "a2c69978ac42aedf7281d37254d3a999beff6f0eed75383c6dffcf66b1263931"
  },
  "kernelspec": {
   "display_name": "Python 3.10.2 64-bit",
   "language": "python",
   "name": "python3"
  },
  "language_info": {
   "codemirror_mode": {
    "name": "ipython",
    "version": 3
   },
   "file_extension": ".py",
   "mimetype": "text/x-python",
   "name": "python",
   "nbconvert_exporter": "python",
   "pygments_lexer": "ipython3",
   "version": "3.10.2"
  },
  "orig_nbformat": 4
 },
 "nbformat": 4,
 "nbformat_minor": 2
}
